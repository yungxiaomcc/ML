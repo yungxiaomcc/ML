{
 "cells": [
  {
   "cell_type": "code",
   "execution_count": 3,
   "source": [
    "import numpy as np\n",
    "import pandas as pd"
   ],
   "outputs": [],
   "metadata": {}
  },
  {
   "cell_type": "markdown",
   "source": [
    "# pandas 包\n",
    "## pandas 中的数据类型\n",
    "\n",
    "### Series 序列\n",
    "```python\n",
    "# data 的类型可以是 Python的字典，ndarray\n",
    "s = pd.Series(data, index=index)\n",
    "```\n",
    "支持的创建方式：\n",
    "\n",
    "\n",
    "\n",
    "1. 支持非唯一索引，如果一个操作不支持非唯一索引操作，会raise 异常，这些事基于性能上的原因\n",
    "\n",
    "\n"
   ],
   "metadata": {}
  },
  {
   "cell_type": "code",
   "execution_count": null,
   "source": [
    "# 从ndarray 中创建： index 的长度和 data的长度必须一致\n",
    "s = pd.Series(np.random.randn(5), index=[\"a\", \"b\", \"a\", \"d\", \"e\"])\n",
    "print(s)\n",
    "print('------------------')\n",
    "# index 可以省略\n",
    "s = pd.Series(np.random.randn(5))\n",
    "print(s)"
   ],
   "outputs": [],
   "metadata": {}
  },
  {
   "cell_type": "code",
   "execution_count": null,
   "source": [
    "# Series can be instantiated from dicts\n",
    "# 从dict 中创建\n",
    "d = {\"b\": 1, \"a\": 0, \"c\": 2}\n",
    "s = pd.Series(d)\n",
    "print(s)"
   ],
   "outputs": [],
   "metadata": {}
  },
  {
   "cell_type": "code",
   "execution_count": null,
   "source": [
    "# 从数字中创建，index参数不可以省略\n",
    "pd.Series(5.0, index=[\"a\", \"b\", \"c\", \"d\", \"e\"])"
   ],
   "outputs": [],
   "metadata": {}
  },
  {
   "cell_type": "markdown",
   "source": [
    "## Series 数据类型的操作行为\n",
    "> Series acts very similarly to a , and is a valid argument to most NumPy functions（对 numpy 函数可以适用）. \n",
    "> However, operations such as slicing will also slice the index.ndarray"
   ],
   "metadata": {}
  },
  {
   "cell_type": "code",
   "execution_count": null,
   "source": [
    "# Series 的操作行为\n",
    "s = pd.Series(np.random.randn(5), index=[\"a\", \"b\", \"a\", \"d\", \"e\"])\n",
    "print(s)\n",
    "print(s.median())\n",
    "print('------------')\n",
    "print(f\"s[0]:\\n{s[0]}\\n\")\n",
    "print(f\"s[:3]:\\n{s[:3]}\\n\")\n",
    "print(f\"s[s > s.median()]:\\n{s[s > s.median()]}\\n\")\n",
    "print(f\"s[[4, 3, 1]]:\\n{s[[4, 3, 1]]}\\n\")\n",
    "print(f\"np.exp(s):\\n{np.exp(s)}\\n\")\n"
   ],
   "outputs": [],
   "metadata": {}
  },
  {
   "cell_type": "code",
   "execution_count": 26,
   "source": [
    "# Like a NumPy array, a pandas Series has a dtype.\n",
    "s.dtype"
   ],
   "outputs": [
    {
     "output_type": "execute_result",
     "data": {
      "text/plain": [
       "dtype('float64')"
      ]
     },
     "metadata": {},
     "execution_count": 26
    }
   ],
   "metadata": {}
  },
  {
   "cell_type": "markdown",
   "source": [
    "### DataFrame\n"
   ],
   "metadata": {}
  },
  {
   "cell_type": "code",
   "execution_count": null,
   "source": [
    "# From dict of Series or dicts\n",
    "d = {\n",
    "    \"one\": pd.Series([1.0, 2.0, 3.0], index=[\"a\", \"b\", \"c\"]),\n",
    "    \"two\": pd.Series([1.0, 2.0, 3.0, 4.0], index=[\"a\", \"b\", \"c\", \"d\"]),\n",
    "}\n",
    "\n",
    "print(pd.DataFrame(d))\n",
    "print(\"\\n\")\n",
    "print(pd.DataFrame(d, index=[\"d\", \"b\", \"a\"]))\n",
    "print(\"\\n\")\n",
    "print(pd.DataFrame(d, index=[\"d\", \"b\", \"a\"], columns=[\"two\", \"three\"]))\n",
    "\n"
   ],
   "outputs": [],
   "metadata": {}
  },
  {
   "cell_type": "code",
   "execution_count": null,
   "source": [
    "# From dict of ndarrays / lists\n",
    "\n",
    "d = {\"one\": [1.0, 2.0, 3.0, 4.0], \"two\": [4.0, 3.0, 2.0, 1.0]}\n",
    "pd.DataFrame(d)\n",
    "print(\"\\n\")\n",
    "pd.DataFrame(d, index=[\"a\", \"b\", \"c\", \"d\"])"
   ],
   "outputs": [],
   "metadata": {}
  },
  {
   "cell_type": "code",
   "execution_count": 40,
   "source": [
    "# From structured or record array\n",
    "data = np.zeros((2,), dtype=[(\"A\", \"i4\"), (\"B\", \"f4\"), (\"C\", \"a10\")])\n",
    "data[:] = [(1, 2.0, \"Hello\"), (2, 3.0, \"World\")]\n",
    "\n",
    "# From a list of dicts\n",
    "data2 = [{\"a\": 1, \"b\": 2}, {\"a\": 5, \"b\": 10, \"c\": 20}]\n",
    "pd.DataFrame(data2)\n",
    "pd.DataFrame(data2, index=[\"first\", \"second\"])\n",
    "pd.DataFrame(data2, columns=[\"a\", \"b\"])\n",
    "\n"
   ],
   "outputs": [
    {
     "output_type": "execute_result",
     "data": {
      "text/plain": [
       "   a   b\n",
       "0  1   2\n",
       "1  5  10"
      ],
      "text/html": [
       "<div>\n",
       "<style scoped>\n",
       "    .dataframe tbody tr th:only-of-type {\n",
       "        vertical-align: middle;\n",
       "    }\n",
       "\n",
       "    .dataframe tbody tr th {\n",
       "        vertical-align: top;\n",
       "    }\n",
       "\n",
       "    .dataframe thead th {\n",
       "        text-align: right;\n",
       "    }\n",
       "</style>\n",
       "<table border=\"1\" class=\"dataframe\">\n",
       "  <thead>\n",
       "    <tr style=\"text-align: right;\">\n",
       "      <th></th>\n",
       "      <th>a</th>\n",
       "      <th>b</th>\n",
       "    </tr>\n",
       "  </thead>\n",
       "  <tbody>\n",
       "    <tr>\n",
       "      <th>0</th>\n",
       "      <td>1</td>\n",
       "      <td>2</td>\n",
       "    </tr>\n",
       "    <tr>\n",
       "      <th>1</th>\n",
       "      <td>5</td>\n",
       "      <td>10</td>\n",
       "    </tr>\n",
       "  </tbody>\n",
       "</table>\n",
       "</div>"
      ]
     },
     "metadata": {},
     "execution_count": 40
    }
   ],
   "metadata": {}
  }
 ],
 "metadata": {
  "orig_nbformat": 4,
  "language_info": {
   "name": "python",
   "version": "3.8.11",
   "mimetype": "text/x-python",
   "codemirror_mode": {
    "name": "ipython",
    "version": 3
   },
   "pygments_lexer": "ipython3",
   "nbconvert_exporter": "python",
   "file_extension": ".py"
  },
  "kernelspec": {
   "name": "python3",
   "display_name": "Python 3.8.11 64-bit ('ml': conda)"
  },
  "interpreter": {
   "hash": "97c9e121900fea777653a22e4b06d5803b721d793167531fe2759a6e59b51afa"
  }
 },
 "nbformat": 4,
 "nbformat_minor": 2
}