{
 "cells": [
  {
   "cell_type": "code",
   "execution_count": 2,
   "metadata": {},
   "outputs": [
    {
     "name": "stdout",
     "output_type": "stream",
     "text": [
      "[[0.45853959 0.16823841 0.97839448 0.81315381]\n",
      " [0.73756605 0.14302446 0.82590746 0.07085808]\n",
      " [0.26600257 0.33711839 0.67735998 0.73636457]]\n",
      "(3, 4)\n",
      "2\n",
      "float64\n"
     ]
    }
   ],
   "source": [
    "import numpy as np\n",
    "\n",
    "# 生成指定维度大小（3行4列）的随机多维浮点型数据（二维），rand固定区间0.0 ~ 1.0\n",
    "arr=np.random.rand(3,4)\n",
    "print(arr)\n",
    "print(arr.shape) # 输出一个元组，元组又一个元素表示一维，两个元素表示两维\n",
    "print(arr.ndim) # 维度\n",
    "print(arr.dtype) # 数据类型"
   ]
  },
  {
   "cell_type": "code",
   "execution_count": 3,
   "metadata": {},
   "outputs": [
    {
     "name": "stdout",
     "output_type": "stream",
     "text": [
      "[[4 2 4 2]\n",
      " [2 3 4 3]\n",
      " [3 0 1 0]]\n",
      "<class 'numpy.ndarray'>\n"
     ]
    }
   ],
   "source": [
    "# 生成指定维度大小（3行4列）的随机多维整型数据（二维），randint()可以指定区间（-1, 5）\n",
    "arr = np.random.randint(-1, 5, size = (3, 4)) # 'size='可省略\n",
    "print(arr)\n",
    "print(type(arr))"
   ]
  },
  {
   "cell_type": "code",
   "execution_count": 4,
   "metadata": {},
   "outputs": [
    {
     "name": "stdout",
     "output_type": "stream",
     "text": [
      "[[ 0.21024874  4.11184285  1.66744362  4.44686546]\n",
      " [-0.59461678  3.24079295  1.59554929  2.96651392]\n",
      " [ 3.89617881  1.18037377  1.4666057   4.18215038]]\n",
      "<class 'numpy.ndarray'>\n"
     ]
    }
   ],
   "source": [
    "# 生成指定维度大小（3行4列）的随机多维浮点型数据（二维），uniform()可以指定区间（-1, 5）\n",
    "arr = np.random.uniform(-1, 5, size = (3, 4)) # 'size='可省略\n",
    "print(arr)\n",
    "print(type(arr))"
   ]
  },
  {
   "cell_type": "code",
   "execution_count": 5,
   "metadata": {},
   "outputs": [
    {
     "name": "stdout",
     "output_type": "stream",
     "text": [
      "维度个数:  2\n",
      "维度大小:  (3, 4)\n",
      "数据类型:  float64\n"
     ]
    }
   ],
   "source": [
    "print('维度个数: ', arr.ndim)\n",
    "print('维度大小: ', arr.shape)\n",
    "print('数据类型: ', arr.dtype)"
   ]
  },
  {
   "cell_type": "code",
   "execution_count": 6,
   "metadata": {},
   "outputs": [
    {
     "name": "stdout",
     "output_type": "stream",
     "text": [
      "[0 1 2 3 4 5 6 7 8 9]\n",
      "1\n",
      "(10,)\n"
     ]
    }
   ],
   "source": [
    "# list序列转换为 ndarray\n",
    "lis = range(10)\n",
    "arr = np.array(lis)\n",
    "\n",
    "print(arr)            # ndarray数据\n",
    "print(arr.ndim)        # 维度个数\n",
    "print(arr.shape)    # 维度大小\n"
   ]
  },
  {
   "cell_type": "code",
   "execution_count": 7,
   "metadata": {},
   "outputs": [
    {
     "name": "stdout",
     "output_type": "stream",
     "text": [
      "[[0 1 2 3 4 5 6 7 8 9]\n",
      " [0 1 2 3 4 5 6 7 8 9]]\n",
      "2\n",
      "(2, 10)\n"
     ]
    }
   ],
   "source": [
    "# list of list嵌套序列转换为ndarray\n",
    "lis_lis = [range(10), range(10)]\n",
    "arr = np.array(lis_lis)\n",
    "\n",
    "print(arr)            # ndarray数据\n",
    "print(arr.ndim)        # 维度个数\n",
    "print(arr.shape)    # 维度大小"
   ]
  },
  {
   "cell_type": "code",
   "execution_count": 8,
   "metadata": {},
   "outputs": [
    {
     "name": "stdout",
     "output_type": "stream",
     "text": [
      "3\n",
      "[[1. 1. 1.]\n",
      " [1. 1. 1.]\n",
      " [1. 1. 1.]]\n"
     ]
    }
   ],
   "source": [
    "arr = np.zeros((10,10,10))\n",
    "print(arr.ndim)\n",
    "arr = np.ones((3,3))\n",
    "print(arr)"
   ]
  },
  {
   "cell_type": "code",
   "execution_count": 9,
   "metadata": {},
   "outputs": [
    {
     "name": "stdout",
     "output_type": "stream",
     "text": [
      "[ 0  1  2  3  4  5  6  7  8  9 10 11 12 13 14]\n",
      "[[ 0  1  2  3  4]\n",
      " [ 5  6  7  8  9]\n",
      " [10 11 12 13 14]]\n",
      "[[[ 0  1  2  3  4]\n",
      "  [ 5  6  7  8  9]\n",
      "  [10 11 12 13 14]]]\n",
      "[ 1 10  6 14 11  2  3 13  9  4  7  8 12  5  0]\n",
      "[ 1. 10.  6. 14. 11.  2.  3. 13.  9.  4.  7.  8. 12.  5.  0.]\n"
     ]
    }
   ],
   "source": [
    "import numpy as np\n",
    "arr = np.arange(15) # 15个元素一维数组\n",
    "print(arr)\n",
    "print(arr.reshape(3,5))\n",
    "print(arr.reshape(1,3,5))\n",
    "\n",
    "np.random.shuffle(arr)# 打乱数组\n",
    "print(arr) \n",
    "\n",
    "arr = arr.astype(np.float16) # 转换数据类型\n",
    "print(arr)"
   ]
  },
  {
   "cell_type": "code",
   "execution_count": 20,
   "metadata": {},
   "outputs": [
    {
     "name": "stdout",
     "output_type": "stream",
     "text": [
      "----arr1 dtype int64\n",
      "---arr1 [0 1 2 3 4 5 6 7 8 9] ----arr1[2:5] [2 3 4] ----arr1[1] 10.0\n",
      "---arr2  [[ 0  1  2  3]\n",
      " [ 4  5  6  7]\n",
      " [ 8  9 10 11]] \n",
      " ---type arr2 <class 'numpy.ndarray'>\n",
      "---arr[0] [0 1 2 3] ---arr[0] type <class 'numpy.ndarray'>\n",
      "--- [[0 1 2 3]\n",
      " [4 5 6 7]]\n"
     ]
    }
   ],
   "source": [
    "#索引与切片\n",
    "# 一位数组的的切片和索引和python中的列表类似\n",
    "arr1 = np.arange(10)\n",
    "print('----arr1 dtype',arr1.dtype)\n",
    "print(\"---arr1\",arr1,'----arr1[2:5]',arr1[2:5],'----arr1[1]',arr[1])\n",
    "\n",
    "arr2 = np.arange(12).reshape(3,4)\n",
    "print('---arr2 ',arr2,'\\n','---type arr2',type(arr2))\n",
    "\n",
    "print('---arr[0]',arr2[0],'---arr[0] type',type(arr2[0])) #\n",
    "# arr[r1:r2, c1:c2] 【限定行的范围，限定列的范围】，如果参数是:表示取所有\n",
    "print('---',arr2[0:2, :])"
   ]
  },
  {
   "cell_type": "code",
   "execution_count": 16,
   "metadata": {},
   "outputs": [
    {
     "name": "stdout",
     "output_type": "stream",
     "text": [
      "[[False False False]\n",
      " [ True False  True]\n",
      " [False False  True]] bool\n"
     ]
    }
   ],
   "source": [
    "year_arr = np.array([[2000, 2001, 2000],\n",
    "                     [2005, 2002, 2009],\n",
    "                     [2001, 2003, 2010]])\n",
    "\n",
    "is_year_after_2005 = year_arr >= 2005\n",
    "print(is_year_after_2005, is_year_after_2005.dtype)"
   ]
  },
  {
   "cell_type": "code",
   "execution_count": 44,
   "metadata": {},
   "outputs": [
    {
     "name": "stdout",
     "output_type": "stream",
     "text": [
      "[[0.67800945 0.16017176 0.36945416]\n",
      " [0.18244526 0.35573134 0.22564993]\n",
      " [0.89701835 0.51462653 0.51280962]] \n",
      "\n",
      "[0.18244526 0.22564993 0.51280962]\n"
     ]
    }
   ],
   "source": [
    "# 找出 data_arr 中 2005年后的数据\n",
    "data_arr = np.random.rand(3,3)\n",
    "print(data_arr,'\\n')\n",
    "filtered_arr = data_arr[is_year_after_2005] # niupi\n",
    "print(filtered_arr)"
   ]
  },
  {
   "cell_type": "code",
   "execution_count": 45,
   "metadata": {},
   "outputs": [
    {
     "name": "stdout",
     "output_type": "stream",
     "text": [
      "[0.67800945 0.36945416 0.35573134]\n"
     ]
    }
   ],
   "source": [
    "# 多个条件 \n",
    "filtered_arr = data_arr[(year_arr <= 2005) & (year_arr % 2 == 0)]\n",
    "print(filtered_arr)"
   ]
  },
  {
   "cell_type": "code",
   "execution_count": 47,
   "metadata": {},
   "outputs": [
    {
     "name": "stdout",
     "output_type": "stream",
     "text": [
      "[[0.29097947 0.1048592  0.45340028]\n",
      " [0.1944405  0.37891243 0.02733774]] \n",
      "\n",
      "[[0.29097947 0.1944405 ]\n",
      " [0.1048592  0.37891243]\n",
      " [0.45340028 0.02733774]]\n"
     ]
    }
   ],
   "source": [
    "# 矩阵转置\n",
    "arr = np.random.rand(2,3)    # 2x3 数组\n",
    "print(arr,'\\n')    \n",
    "print(arr.transpose()) # 转换为 3x2 数组"
   ]
  },
  {
   "cell_type": "code",
   "execution_count": 51,
   "metadata": {},
   "outputs": [
    {
     "name": "stdout",
     "output_type": "stream",
     "text": [
      "[[ 0.7864322  -0.13240945  0.68908016]\n",
      " [-0.40569019 -0.23117177  0.12876485]]\n",
      "向上取整\n",
      " [[ 1. -0.  1.]\n",
      " [-0. -0.  1.]]\n",
      "向下取整\n",
      " [[ 0. -1.  0.]\n",
      " [-1. -1.  0.]]\n",
      "四舍五入\n",
      " [[ 1. -0.  1.]\n",
      " [-0. -0.  0.]]\n",
      "判断元素是不是number\n",
      " [[False False False]\n",
      " [False False False]]\n",
      "元素相乘\n",
      " [[0.6184756  0.01753226 0.47483146]\n",
      " [0.16458453 0.05344039 0.01658039]]\n",
      "元素相除\n",
      " [[1. 1. 1.]\n",
      " [1. 1. 1.]]\n",
      "三元运算 [[ 1 -1  1]\n",
      " [-1 -1  1]]\n"
     ]
    }
   ],
   "source": [
    "# 元素操作\n",
    "arr = np.random.randn(2,3)\n",
    "\n",
    "print(arr)\n",
    "\n",
    "print('向上取整\\n',np.ceil(arr)) # 向上取整\n",
    "\n",
    "print('向下取整\\n',np.floor(arr)) # 向下取整\n",
    "\n",
    "print('四舍五入\\n',np.rint(arr))\n",
    "\n",
    "print('判断元素是不是number\\n',np.isnan(arr))\n",
    "\n",
    "print('元素相乘\\n',np.multiply(arr, arr))\n",
    "\n",
    "print('元素相除\\n',np.divide(arr, arr))\n",
    "\n",
    "print('三元运算',np.where(arr > 0, 1, -1))"
   ]
  },
  {
   "cell_type": "code",
   "execution_count": 55,
   "metadata": {},
   "outputs": [
    {
     "name": "stdout",
     "output_type": "stream",
     "text": [
      "[[ 0  1  2  3]\n",
      " [ 4  5  6  7]\n",
      " [ 8  9 10 11]]\n",
      "均值--- 5.5\n",
      "最大值--- 11\n",
      "最小值--- 0\n",
      "最大值index--- 11\n",
      "最小值index--- 0\n",
      "标准差--- 3.452052529534663\n",
      "方差--- 11.916666666666666\n",
      "[ 0  1  3  6 10 15 21 28 36 45 55 66]\n",
      "66\n",
      "[12 15 18 21]\n",
      "[ 6 22 38]\n"
     ]
    }
   ],
   "source": [
    "# 元素统计\n",
    "arr = np.arange(12).reshape(3,4)\n",
    "print(arr)\n",
    "\n",
    "print('均值---',np.mean(arr)) # 所有元素均值\n",
    "print('最大值---',np.max(arr)) # 所有元素均值\n",
    "print('最小值---',np.min(arr)) # 所有元素均值\n",
    "print('最大值index---',np.argmax(arr)) # 所有元素均值\n",
    "print('最小值index---',np.argmin(arr)) # 所有元素均值\n",
    "print('标准差---',np.std(arr)) # 所有元素均值\n",
    "print('方差---',np.var(arr)) # 所有元素均值\n",
    "\n",
    "\n",
    "\n",
    "\n",
    "print(np.cumsum(arr)) # 返回一个一维数组，每个元素都是之前所有元素的 累加和\n",
    "\n",
    "print(np.sum(arr)) # 所有元素的和\n",
    "\n",
    "print(np.sum(arr, axis=0)) # 数组的按列统计和\n",
    "\n",
    "print(np.sum(arr, axis=1)) # 数组的按行统计和"
   ]
  },
  {
   "cell_type": "code",
   "execution_count": 49,
   "metadata": {},
   "outputs": [
    {
     "name": "stdout",
     "output_type": "stream",
     "text": [
      "[[-0.37583793 -0.8285668   0.63703396]\n",
      " [ 0.41366364 -0.24593872 -0.33826527]]\n",
      "True\n",
      "False\n"
     ]
    }
   ],
   "source": [
    "# 元素判断函数\n",
    "arr = np.random.randn(2,3)\n",
    "print(arr)\n",
    "\n",
    "print(np.any(arr > 0)) # 任意元素大于0\n",
    "print(np.all(arr > 0)) # 所有元素大于0"
   ]
  },
  {
   "cell_type": "code",
   "execution_count": 56,
   "metadata": {},
   "outputs": [
    {
     "name": "stdout",
     "output_type": "stream",
     "text": [
      "[[1 2 1]\n",
      " [2 3 4]]\n",
      "[1 2 3 4]\n"
     ]
    }
   ],
   "source": [
    "# 元素去重和排序\n",
    "arr = np.array([[1, 2, 1], [2, 3, 4]])\n",
    "print(arr)\n",
    "\n",
    "print(np.unique(arr))"
   ]
  },
  {
   "cell_type": "code",
   "execution_count": 8,
   "metadata": {},
   "outputs": [
    {
     "name": "stdout",
     "output_type": "stream",
     "text": [
      "[5.94912765e-01 4.23029027e-01 9.34900482e-02 3.76788352e-04\n",
      " 6.94071675e-02 2.39813308e-01 2.96409300e-01 3.65358060e-01\n",
      " 5.03750816e-01 3.65555439e-01]\n"
     ]
    },
    {
     "data": {
      "text/plain": [
       "array([0.59, 0.42, 0.09, 0.  , 0.07, 0.24, 0.3 , 0.37, 0.5 , 0.37])"
      ]
     },
     "execution_count": 8,
     "metadata": {},
     "output_type": "execute_result"
    }
   ],
   "source": [
    "from random import random\n",
    "arr = np.array([random() for i in range(10)])\n",
    "print(arr)\n",
    "# array 保留两位小数\n",
    "np.round(arr,2)"
   ]
  }
 ],
 "metadata": {
  "interpreter": {
   "hash": "6b50c273a699f034f8b4b4065acd8a13b3c0b504d8e7acedaca8bd42a93a2fd4"
  },
  "kernelspec": {
   "display_name": "Python 3.8.11 64-bit ('ml': conda)",
   "name": "python3"
  },
  "language_info": {
   "codemirror_mode": {
    "name": "ipython",
    "version": 3
   },
   "file_extension": ".py",
   "mimetype": "text/x-python",
   "name": "python",
   "nbconvert_exporter": "python",
   "pygments_lexer": "ipython3",
   "version": "3.8.11"
  },
  "orig_nbformat": 4
 },
 "nbformat": 4,
 "nbformat_minor": 2
}
